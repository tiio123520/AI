/* 中文 Wordnet */

!pip install CwnGraph

/* 將cwn_graph.pyobj上傳到colab目錄 */

from pprint import pprint
from CwnGraph import CwnBase
CwnBase.install_cwn("cwn_graph.pyobj")

from CwnGraph import CwnBase
cwn = CwnBase()

lemmas = cwn.find_lemma("頭")
lemmas

/* 英文wordnet */

import nltk
nltk.download('wordnet')
from nltk.corpus import wordnet as wn
wn.synsets('dog')
